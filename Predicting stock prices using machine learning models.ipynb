{
 "cells": [
  {
   "cell_type": "code",
   "execution_count": 3,
   "metadata": {},
   "outputs": [],
   "source": [
    "# Installing packages\n",
    "import quandl\n",
    "import numpy as np\n",
    "from sklearn.linear_model import LinearRegression\n",
    "from sklearn.svm import SVR\n",
    "from sklearn.model_selection import train_test_split"
   ]
  },
  {
   "cell_type": "code",
   "execution_count": 9,
   "metadata": {},
   "outputs": [
    {
     "data": {
      "text/html": [
       "<div>\n",
       "<style scoped>\n",
       "    .dataframe tbody tr th:only-of-type {\n",
       "        vertical-align: middle;\n",
       "    }\n",
       "\n",
       "    .dataframe tbody tr th {\n",
       "        vertical-align: top;\n",
       "    }\n",
       "\n",
       "    .dataframe thead th {\n",
       "        text-align: right;\n",
       "    }\n",
       "</style>\n",
       "<table border=\"1\" class=\"dataframe\">\n",
       "  <thead>\n",
       "    <tr style=\"text-align: right;\">\n",
       "      <th></th>\n",
       "      <th>Open</th>\n",
       "      <th>High</th>\n",
       "      <th>Low</th>\n",
       "      <th>Last</th>\n",
       "      <th>Close</th>\n",
       "      <th>Total Trade Quantity</th>\n",
       "      <th>Turnover (Lacs)</th>\n",
       "    </tr>\n",
       "    <tr>\n",
       "      <th>Date</th>\n",
       "      <th></th>\n",
       "      <th></th>\n",
       "      <th></th>\n",
       "      <th></th>\n",
       "      <th></th>\n",
       "      <th></th>\n",
       "      <th></th>\n",
       "    </tr>\n",
       "  </thead>\n",
       "  <tbody>\n",
       "    <tr>\n",
       "      <th>1998-03-20</th>\n",
       "      <td>275.40</td>\n",
       "      <td>278.80</td>\n",
       "      <td>273.30</td>\n",
       "      <td>NaN</td>\n",
       "      <td>NaN</td>\n",
       "      <td>NaN</td>\n",
       "      <td>NaN</td>\n",
       "    </tr>\n",
       "    <tr>\n",
       "      <th>1998-03-23</th>\n",
       "      <td>278.45</td>\n",
       "      <td>280.90</td>\n",
       "      <td>278.45</td>\n",
       "      <td>279.95</td>\n",
       "      <td>279.95</td>\n",
       "      <td>591700.0</td>\n",
       "      <td>1654.91</td>\n",
       "    </tr>\n",
       "    <tr>\n",
       "      <th>1998-03-24</th>\n",
       "      <td>282.00</td>\n",
       "      <td>288.40</td>\n",
       "      <td>280.00</td>\n",
       "      <td>282.25</td>\n",
       "      <td>284.35</td>\n",
       "      <td>4979900.0</td>\n",
       "      <td>14231.55</td>\n",
       "    </tr>\n",
       "    <tr>\n",
       "      <th>1998-03-25</th>\n",
       "      <td>285.00</td>\n",
       "      <td>290.25</td>\n",
       "      <td>284.50</td>\n",
       "      <td>288.70</td>\n",
       "      <td>289.15</td>\n",
       "      <td>3632600.0</td>\n",
       "      <td>10436.93</td>\n",
       "    </tr>\n",
       "    <tr>\n",
       "      <th>1998-03-26</th>\n",
       "      <td>289.00</td>\n",
       "      <td>289.00</td>\n",
       "      <td>280.10</td>\n",
       "      <td>281.75</td>\n",
       "      <td>281.70</td>\n",
       "      <td>3861750.0</td>\n",
       "      <td>10996.67</td>\n",
       "    </tr>\n",
       "  </tbody>\n",
       "</table>\n",
       "</div>"
      ],
      "text/plain": [
       "              Open    High     Low    Last   Close  Total Trade Quantity  \\\n",
       "Date                                                                       \n",
       "1998-03-20  275.40  278.80  273.30     NaN     NaN                   NaN   \n",
       "1998-03-23  278.45  280.90  278.45  279.95  279.95              591700.0   \n",
       "1998-03-24  282.00  288.40  280.00  282.25  284.35             4979900.0   \n",
       "1998-03-25  285.00  290.25  284.50  288.70  289.15             3632600.0   \n",
       "1998-03-26  289.00  289.00  280.10  281.75  281.70             3861750.0   \n",
       "\n",
       "            Turnover (Lacs)  \n",
       "Date                         \n",
       "1998-03-20              NaN  \n",
       "1998-03-23          1654.91  \n",
       "1998-03-24         14231.55  \n",
       "1998-03-25         10436.93  \n",
       "1998-03-26         10996.67  "
      ]
     },
     "execution_count": 9,
     "metadata": {},
     "output_type": "execute_result"
    }
   ],
   "source": [
    "#Get the stock data \n",
    "df = quandl.get(\"NSE/SBIN\")\n",
    "\n",
    "#Showing the Data\n",
    "df.head()"
   ]
  },
  {
   "cell_type": "code",
   "execution_count": 14,
   "metadata": {},
   "outputs": [
    {
     "data": {
      "text/html": [
       "<div>\n",
       "<style scoped>\n",
       "    .dataframe tbody tr th:only-of-type {\n",
       "        vertical-align: middle;\n",
       "    }\n",
       "\n",
       "    .dataframe tbody tr th {\n",
       "        vertical-align: top;\n",
       "    }\n",
       "\n",
       "    .dataframe thead th {\n",
       "        text-align: right;\n",
       "    }\n",
       "</style>\n",
       "<table border=\"1\" class=\"dataframe\">\n",
       "  <thead>\n",
       "    <tr style=\"text-align: right;\">\n",
       "      <th></th>\n",
       "      <th>Close</th>\n",
       "    </tr>\n",
       "    <tr>\n",
       "      <th>Date</th>\n",
       "      <th></th>\n",
       "    </tr>\n",
       "  </thead>\n",
       "  <tbody>\n",
       "    <tr>\n",
       "      <th>1998-03-20</th>\n",
       "      <td>NaN</td>\n",
       "    </tr>\n",
       "    <tr>\n",
       "      <th>1998-03-23</th>\n",
       "      <td>279.95</td>\n",
       "    </tr>\n",
       "    <tr>\n",
       "      <th>1998-03-24</th>\n",
       "      <td>284.35</td>\n",
       "    </tr>\n",
       "    <tr>\n",
       "      <th>1998-03-25</th>\n",
       "      <td>289.15</td>\n",
       "    </tr>\n",
       "    <tr>\n",
       "      <th>1998-03-26</th>\n",
       "      <td>281.70</td>\n",
       "    </tr>\n",
       "    <tr>\n",
       "      <th>...</th>\n",
       "      <td>...</td>\n",
       "    </tr>\n",
       "    <tr>\n",
       "      <th>2018-12-31</th>\n",
       "      <td>295.90</td>\n",
       "    </tr>\n",
       "    <tr>\n",
       "      <th>2019-01-01</th>\n",
       "      <td>299.60</td>\n",
       "    </tr>\n",
       "    <tr>\n",
       "      <th>2019-01-02</th>\n",
       "      <td>293.90</td>\n",
       "    </tr>\n",
       "    <tr>\n",
       "      <th>2019-01-03</th>\n",
       "      <td>291.10</td>\n",
       "    </tr>\n",
       "    <tr>\n",
       "      <th>2019-01-04</th>\n",
       "      <td>297.65</td>\n",
       "    </tr>\n",
       "  </tbody>\n",
       "</table>\n",
       "<p>5184 rows × 1 columns</p>\n",
       "</div>"
      ],
      "text/plain": [
       "             Close\n",
       "Date              \n",
       "1998-03-20     NaN\n",
       "1998-03-23  279.95\n",
       "1998-03-24  284.35\n",
       "1998-03-25  289.15\n",
       "1998-03-26  281.70\n",
       "...            ...\n",
       "2018-12-31  295.90\n",
       "2019-01-01  299.60\n",
       "2019-01-02  293.90\n",
       "2019-01-03  291.10\n",
       "2019-01-04  297.65\n",
       "\n",
       "[5184 rows x 1 columns]"
      ]
     },
     "execution_count": 14,
     "metadata": {},
     "output_type": "execute_result"
    }
   ],
   "source": [
    "#Get the adjusted close price \n",
    "df = df[['Close']]\n",
    "df"
   ]
  },
  {
   "cell_type": "code",
   "execution_count": 18,
   "metadata": {},
   "outputs": [],
   "source": [
    "#Filling the missing data with price information\n",
    "df.isnull().sum()\n",
    "df.fillna(279, inplace = True)"
   ]
  },
  {
   "cell_type": "code",
   "execution_count": 19,
   "metadata": {},
   "outputs": [
    {
     "data": {
      "text/html": [
       "<div>\n",
       "<style scoped>\n",
       "    .dataframe tbody tr th:only-of-type {\n",
       "        vertical-align: middle;\n",
       "    }\n",
       "\n",
       "    .dataframe tbody tr th {\n",
       "        vertical-align: top;\n",
       "    }\n",
       "\n",
       "    .dataframe thead th {\n",
       "        text-align: right;\n",
       "    }\n",
       "</style>\n",
       "<table border=\"1\" class=\"dataframe\">\n",
       "  <thead>\n",
       "    <tr style=\"text-align: right;\">\n",
       "      <th></th>\n",
       "      <th>Close</th>\n",
       "    </tr>\n",
       "    <tr>\n",
       "      <th>Date</th>\n",
       "      <th></th>\n",
       "    </tr>\n",
       "  </thead>\n",
       "  <tbody>\n",
       "    <tr>\n",
       "      <th>1998-03-20</th>\n",
       "      <td>279.00</td>\n",
       "    </tr>\n",
       "    <tr>\n",
       "      <th>1998-03-23</th>\n",
       "      <td>279.95</td>\n",
       "    </tr>\n",
       "    <tr>\n",
       "      <th>1998-03-24</th>\n",
       "      <td>284.35</td>\n",
       "    </tr>\n",
       "    <tr>\n",
       "      <th>1998-03-25</th>\n",
       "      <td>289.15</td>\n",
       "    </tr>\n",
       "    <tr>\n",
       "      <th>1998-03-26</th>\n",
       "      <td>281.70</td>\n",
       "    </tr>\n",
       "    <tr>\n",
       "      <th>...</th>\n",
       "      <td>...</td>\n",
       "    </tr>\n",
       "    <tr>\n",
       "      <th>2018-12-31</th>\n",
       "      <td>295.90</td>\n",
       "    </tr>\n",
       "    <tr>\n",
       "      <th>2019-01-01</th>\n",
       "      <td>299.60</td>\n",
       "    </tr>\n",
       "    <tr>\n",
       "      <th>2019-01-02</th>\n",
       "      <td>293.90</td>\n",
       "    </tr>\n",
       "    <tr>\n",
       "      <th>2019-01-03</th>\n",
       "      <td>291.10</td>\n",
       "    </tr>\n",
       "    <tr>\n",
       "      <th>2019-01-04</th>\n",
       "      <td>297.65</td>\n",
       "    </tr>\n",
       "  </tbody>\n",
       "</table>\n",
       "<p>5184 rows × 1 columns</p>\n",
       "</div>"
      ],
      "text/plain": [
       "             Close\n",
       "Date              \n",
       "1998-03-20  279.00\n",
       "1998-03-23  279.95\n",
       "1998-03-24  284.35\n",
       "1998-03-25  289.15\n",
       "1998-03-26  281.70\n",
       "...            ...\n",
       "2018-12-31  295.90\n",
       "2019-01-01  299.60\n",
       "2019-01-02  293.90\n",
       "2019-01-03  291.10\n",
       "2019-01-04  297.65\n",
       "\n",
       "[5184 rows x 1 columns]"
      ]
     },
     "execution_count": 19,
     "metadata": {},
     "output_type": "execute_result"
    }
   ],
   "source": [
    "# After removal of na values\n",
    "df"
   ]
  },
  {
   "cell_type": "code",
   "execution_count": 58,
   "metadata": {},
   "outputs": [
    {
     "name": "stdout",
     "output_type": "stream",
     "text": [
      "             Close  Prediction\n",
      "Date                          \n",
      "1998-03-20  279.00      282.05\n",
      "1998-03-23  279.95      278.05\n",
      "1998-03-24  284.35      278.60\n",
      "1998-03-25  289.15      263.95\n",
      "1998-03-26  281.70      256.60\n",
      "...            ...         ...\n",
      "2018-12-31  295.90         NaN\n",
      "2019-01-01  299.60         NaN\n",
      "2019-01-02  293.90         NaN\n",
      "2019-01-03  291.10         NaN\n",
      "2019-01-04  297.65         NaN\n",
      "\n",
      "[5184 rows x 2 columns]\n"
     ]
    }
   ],
   "source": [
    "# A variable for predicting n days into the future\n",
    "forecast_out = 30\n",
    "#Create another column (The target or dependant variable) shifted n units up.\n",
    "df['Prediction'] = df[['Close']].shift(-forecast_out)\n",
    "\n",
    "#Print the new dataset\n",
    "print(df)"
   ]
  },
  {
   "cell_type": "code",
   "execution_count": 59,
   "metadata": {},
   "outputs": [
    {
     "data": {
      "text/html": [
       "<div>\n",
       "<style scoped>\n",
       "    .dataframe tbody tr th:only-of-type {\n",
       "        vertical-align: middle;\n",
       "    }\n",
       "\n",
       "    .dataframe tbody tr th {\n",
       "        vertical-align: top;\n",
       "    }\n",
       "\n",
       "    .dataframe thead th {\n",
       "        text-align: right;\n",
       "    }\n",
       "</style>\n",
       "<table border=\"1\" class=\"dataframe\">\n",
       "  <thead>\n",
       "    <tr style=\"text-align: right;\">\n",
       "      <th></th>\n",
       "      <th>Close</th>\n",
       "      <th>Prediction</th>\n",
       "    </tr>\n",
       "    <tr>\n",
       "      <th>Date</th>\n",
       "      <th></th>\n",
       "      <th></th>\n",
       "    </tr>\n",
       "  </thead>\n",
       "  <tbody>\n",
       "    <tr>\n",
       "      <th>2018-12-31</th>\n",
       "      <td>295.90</td>\n",
       "      <td>NaN</td>\n",
       "    </tr>\n",
       "    <tr>\n",
       "      <th>2019-01-01</th>\n",
       "      <td>299.60</td>\n",
       "      <td>NaN</td>\n",
       "    </tr>\n",
       "    <tr>\n",
       "      <th>2019-01-02</th>\n",
       "      <td>293.90</td>\n",
       "      <td>NaN</td>\n",
       "    </tr>\n",
       "    <tr>\n",
       "      <th>2019-01-03</th>\n",
       "      <td>291.10</td>\n",
       "      <td>NaN</td>\n",
       "    </tr>\n",
       "    <tr>\n",
       "      <th>2019-01-04</th>\n",
       "      <td>297.65</td>\n",
       "      <td>NaN</td>\n",
       "    </tr>\n",
       "  </tbody>\n",
       "</table>\n",
       "</div>"
      ],
      "text/plain": [
       "             Close  Prediction\n",
       "Date                          \n",
       "2018-12-31  295.90         NaN\n",
       "2019-01-01  299.60         NaN\n",
       "2019-01-02  293.90         NaN\n",
       "2019-01-03  291.10         NaN\n",
       "2019-01-04  297.65         NaN"
      ]
     },
     "execution_count": 59,
     "metadata": {},
     "output_type": "execute_result"
    }
   ],
   "source": [
    "df.tail()"
   ]
  },
  {
   "cell_type": "code",
   "execution_count": 60,
   "metadata": {},
   "outputs": [
    {
     "data": {
      "text/plain": [
       "array([[279.  ],\n",
       "       [279.95],\n",
       "       [284.35],\n",
       "       ...,\n",
       "       [288.15],\n",
       "       [283.45],\n",
       "       [287.05]])"
      ]
     },
     "execution_count": 60,
     "metadata": {},
     "output_type": "execute_result"
    }
   ],
   "source": [
    "## Create an independant data seet(x)\n",
    "# Convert the dataframe into a numpy array\n",
    "x = np.array(df.drop(['Prediction'],1))\n",
    "#Remove the last n rows \n",
    "x = x[:-forecast_out]\n",
    "x"
   ]
  },
  {
   "cell_type": "code",
   "execution_count": 61,
   "metadata": {},
   "outputs": [],
   "source": [
    "## Create the dependant dataset(y) ##\n",
    "# Convert the dataframe to a numpy array(All values included)\n",
    "y = np.array(df['Prediction'])\n",
    "# Get all of they values except the last n rows\n",
    "y = y[:-forecast_out]"
   ]
  },
  {
   "cell_type": "code",
   "execution_count": 62,
   "metadata": {},
   "outputs": [
    {
     "data": {
      "text/plain": [
       "array([282.05, 278.05, 278.6 , ..., 293.9 , 291.1 , 297.65])"
      ]
     },
     "execution_count": 62,
     "metadata": {},
     "output_type": "execute_result"
    }
   ],
   "source": [
    "y"
   ]
  },
  {
   "cell_type": "code",
   "execution_count": 63,
   "metadata": {},
   "outputs": [],
   "source": [
    "#Split the data into 80% training and 20% testing \n",
    "x_train,x_test,y_train,y_test = train_test_split(x,y,test_size = 0.2)\n"
   ]
  },
  {
   "cell_type": "code",
   "execution_count": 64,
   "metadata": {},
   "outputs": [
    {
     "data": {
      "text/plain": [
       "SVR(C=1000.0, cache_size=200, coef0=0.0, degree=3, epsilon=0.1, gamma=0.1,\n",
       "    kernel='rbf', max_iter=-1, shrinking=True, tol=0.001, verbose=False)"
      ]
     },
     "execution_count": 64,
     "metadata": {},
     "output_type": "execute_result"
    }
   ],
   "source": [
    "# Create and train the support vector Machine(Regressor)\n",
    "support_vector  = SVR(kernel = 'rbf', C = 1e3, gamma = 0.1)\n",
    "support_vector.fit(x_train,y_train)"
   ]
  },
  {
   "cell_type": "code",
   "execution_count": 65,
   "metadata": {},
   "outputs": [
    {
     "data": {
      "text/plain": [
       "0.8969459572355837"
      ]
     },
     "execution_count": 65,
     "metadata": {},
     "output_type": "execute_result"
    }
   ],
   "source": [
    "#Testing Model : Score returns the coefficient of determination R^2 of the prediction\n",
    "# The best possible score is 1\n",
    "svm_confidence = support_vector.score(x_test,y_test)\n",
    "svm_confidence"
   ]
  },
  {
   "cell_type": "code",
   "execution_count": 66,
   "metadata": {},
   "outputs": [
    {
     "data": {
      "text/plain": [
       "LinearRegression(copy_X=True, fit_intercept=True, n_jobs=None, normalize=False)"
      ]
     },
     "execution_count": 66,
     "metadata": {},
     "output_type": "execute_result"
    }
   ],
   "source": [
    "#Create and train the linear regression model\n",
    "lr = LinearRegression()\n",
    "#Train the model \n",
    "lr.fit(x_train,y_train)\n",
    "lr"
   ]
  },
  {
   "cell_type": "code",
   "execution_count": 67,
   "metadata": {},
   "outputs": [
    {
     "data": {
      "text/plain": [
       "0.930700981753204"
      ]
     },
     "execution_count": 67,
     "metadata": {},
     "output_type": "execute_result"
    }
   ],
   "source": [
    "#Testing Model : Score returns the coefficient of determination R^2 of the prediction\n",
    "# The best possible score is 1\n",
    "lr_confidence = lr.score(x_test,y_test)\n",
    "lr_confidence"
   ]
  },
  {
   "cell_type": "code",
   "execution_count": 68,
   "metadata": {},
   "outputs": [
    {
     "data": {
      "text/plain": [
       "array([[282.7 ],\n",
       "       [286.4 ],\n",
       "       [289.4 ],\n",
       "       [284.55],\n",
       "       [286.4 ],\n",
       "       [284.65],\n",
       "       [286.8 ],\n",
       "       [282.55],\n",
       "       [280.15],\n",
       "       [275.65],\n",
       "       [275.4 ],\n",
       "       [274.2 ],\n",
       "       [281.25],\n",
       "       [285.25],\n",
       "       [289.  ],\n",
       "       [289.2 ],\n",
       "       [289.5 ],\n",
       "       [292.75],\n",
       "       [300.7 ],\n",
       "       [294.05],\n",
       "       [291.9 ],\n",
       "       [293.05],\n",
       "       [294.15],\n",
       "       [292.15],\n",
       "       [294.8 ],\n",
       "       [295.9 ],\n",
       "       [299.6 ],\n",
       "       [293.9 ],\n",
       "       [291.1 ],\n",
       "       [297.65]])"
      ]
     },
     "execution_count": 68,
     "metadata": {},
     "output_type": "execute_result"
    }
   ],
   "source": [
    "# Set x_forecast equal to the the last 30 rows of the original data set from Close column \n",
    "x_forecast = np.array(df.drop(['Prediction'],1))[-forecast_out:]\n",
    "x_forecast"
   ]
  },
  {
   "cell_type": "code",
   "execution_count": 69,
   "metadata": {},
   "outputs": [
    {
     "data": {
      "text/plain": [
       "array([311.67125066, 315.20809944, 318.07581468, 313.43967505,\n",
       "       315.20809944, 313.53526556, 315.59046147, 311.5278649 ,\n",
       "       309.23369271, 304.93211986, 304.6931436 , 303.5460575 ,\n",
       "       310.2851883 , 314.10880861, 317.69345264, 317.88463366,\n",
       "       318.17140518, 321.27809668, 328.87754205, 322.52077328,\n",
       "       320.46557737, 321.56486821, 322.61636379, 320.70455364,\n",
       "       323.23770209, 324.28919768, 327.82604646, 322.37738752,\n",
       "       319.70085331, 325.96203156])"
      ]
     },
     "execution_count": 69,
     "metadata": {},
     "output_type": "execute_result"
    }
   ],
   "source": [
    "# Print the predictions for the next n=30 days \n",
    "# using linear regression\n",
    "lr_prediction = lr.predict(x_forecast)\n",
    "lr_prediction"
   ]
  },
  {
   "cell_type": "code",
   "execution_count": 70,
   "metadata": {},
   "outputs": [
    {
     "name": "stdout",
     "output_type": "stream",
     "text": [
      "[285.86745162 291.51666212 283.22280216 292.71235383 291.51666212\n",
      " 292.12429335 292.19919389 283.30616205 274.36337658 279.46308066\n",
      " 278.55597552 270.39095028 267.82167246 289.60321947 283.65213098\n",
      " 283.36887463 283.18053737 278.79574894 285.13673381 287.00486786\n",
      " 276.43628388 280.94344483 287.09929957 276.43850917 283.97530882\n",
      " 267.48063697 286.57356332 286.61197912 279.27443568 260.82490285]\n"
     ]
    }
   ],
   "source": [
    "#using SVM\n",
    "support_vector  = support_vector.predict(x_forecast)\n",
    "print(support_vector)"
   ]
  },
  {
   "cell_type": "code",
   "execution_count": null,
   "metadata": {},
   "outputs": [],
   "source": []
  }
 ],
 "metadata": {
  "kernelspec": {
   "display_name": "Python 3",
   "language": "python",
   "name": "python3"
  },
  "language_info": {
   "codemirror_mode": {
    "name": "ipython",
    "version": 3
   },
   "file_extension": ".py",
   "mimetype": "text/x-python",
   "name": "python",
   "nbconvert_exporter": "python",
   "pygments_lexer": "ipython3",
   "version": "3.7.6"
  }
 },
 "nbformat": 4,
 "nbformat_minor": 4
}
